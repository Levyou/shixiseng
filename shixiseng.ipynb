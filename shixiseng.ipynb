{
 "cells": [
  {
   "cell_type": "code",
   "execution_count": 1,
   "metadata": {},
   "outputs": [],
   "source": [
    "import numpy as np\n",
    "import pandas as pd\n",
    "import matplotlib.pyplot as plt\n",
    "import seaborn as sns\n",
    "# import pyecharts\n",
    "plt.style.use('ggplot')\n",
    "%matplotlib inline\n",
    "\n",
    "from pylab import mpl\n",
    "mpl.rcParams['font.sans-serif'] = ['SimHei']  #解决seaborn中文字体显示问题\n",
    "plt.rc('figure', figsize=(10, 10))  #把plt默认的图片size调大一点"
   ]
  },
  {
   "cell_type": "code",
   "execution_count": 200,
   "metadata": {},
   "outputs": [],
   "source": [
    "data_dm = pd.read_csv(r\"C:\\Users\\Mr.You\\Desktop\\y\\shixiseng\\datamining.csv\")\n",
    "data_ml = pd.read_csv(r\"C:\\Users\\Mr.You\\Desktop\\y\\shixiseng\\machinelearning.csv\")\n",
    "data_al = pd.read_csv(r\"C:\\Users\\Mr.You\\Desktop\\y\\shixiseng\\mlalgorithm.csv\")\n",
    "\n",
    "data = pd.concat([data_dm, data_ml, data_al], ignore_index=True)"
   ]
  },
  {
   "cell_type": "code",
   "execution_count": 201,
   "metadata": {},
   "outputs": [
    {
     "name": "stdout",
     "output_type": "stream",
     "text": [
      "<class 'pandas.core.frame.DataFrame'>\n",
      "RangeIndex: 978 entries, 0 to 977\n",
      "Data columns (total 27 columns):\n",
      "auth_capital      906 non-null object\n",
      "city              974 non-null object\n",
      "com_class         954 non-null object\n",
      "com_fullname      974 non-null object\n",
      "com_id            906 non-null object\n",
      "com_intro         974 non-null object\n",
      "com_links         978 non-null object\n",
      "com_location      978 non-null object\n",
      "com_logo          974 non-null object\n",
      "com_name          974 non-null object\n",
      "com_website       865 non-null object\n",
      "com_welfare       978 non-null object\n",
      "day_per_week      978 non-null object\n",
      "detailed_intro    912 non-null object\n",
      "est_date          906 non-null object\n",
      "industry          960 non-null object\n",
      "job_academic      978 non-null object\n",
      "job_deadline      978 non-null object\n",
      "job_detail        681 non-null object\n",
      "job_links         978 non-null object\n",
      "job_title         978 non-null object\n",
      "num_employee      972 non-null object\n",
      "released_time     978 non-null object\n",
      "tag               978 non-null object\n",
      "time_span         978 non-null object\n",
      "update_time       978 non-null object\n",
      "wage              978 non-null object\n",
      "dtypes: object(27)\n",
      "memory usage: 206.4+ KB\n"
     ]
    }
   ],
   "source": [
    "data.info()"
   ]
  },
  {
   "cell_type": "code",
   "execution_count": 202,
   "metadata": {},
   "outputs": [
    {
     "data": {
      "text/plain": [
       "(878, 27)"
      ]
     },
     "execution_count": 202,
     "metadata": {},
     "output_type": "execute_result"
    }
   ],
   "source": [
    "data.drop_duplicates(subset='job_links', inplace=True)\n",
    "data.shape"
   ]
  },
  {
   "cell_type": "code",
   "execution_count": 203,
   "metadata": {},
   "outputs": [],
   "source": [
    "data_clean = data.drop(['com_id', 'com_links', 'com_location', 'com_website', \n",
    "                 'com_welfare', 'detailed_intro', 'job_detail'], axis=1)"
   ]
  },
  {
   "cell_type": "code",
   "execution_count": 204,
   "metadata": {},
   "outputs": [],
   "source": [
    "def clean(x):\n",
    "    if ',' in str(x):\n",
    "        return x.replace(',','')\n",
    "    else: return x\n",
    "data['auth_capital'] = data['auth_capital'].apply(clean)"
   ]
  },
  {
   "cell_type": "code",
   "execution_count": 205,
   "metadata": {},
   "outputs": [],
   "source": [
    "auth_capital = data['auth_capital'].str.extract('([0-9.]+)').astype('float')"
   ]
  },
  {
   "cell_type": "code",
   "execution_count": 206,
   "metadata": {},
   "outputs": [],
   "source": [
    "auth_capital['unit'] = data['auth_capital'].str.extract('[0-9.]+(.*)')"
   ]
  },
  {
   "cell_type": "code",
   "execution_count": 207,
   "metadata": {},
   "outputs": [
    {
     "data": {
      "text/plain": [
       "array(['万美元', '万人民币', '万元美元', nan, '万元人民币', '万人民币元', ' 万元', ' 万元 人民币',\n",
       "       '万元', '万', ' 万元 美元', ' 万元人民币', '万元港元（港币）', ' 万美元', '万港币', '万香港元',\n",
       "       '万欧元', ' 万人民币', ' 万', ' 万元 港元（港币）'], dtype=object)"
      ]
     },
     "execution_count": 207,
     "metadata": {},
     "output_type": "execute_result"
    }
   ],
   "source": [
    "auth_capital['unit'].unique()"
   ]
  },
  {
   "cell_type": "code",
   "execution_count": 208,
   "metadata": {},
   "outputs": [],
   "source": [
    "def get_ex_rate(string):\n",
    "    if string == None:\n",
    "        return np.nan\n",
    "    if '人民币' in str(string):\n",
    "        return 1.00\n",
    "    elif '港' in str(string):\n",
    "        return 0.80\n",
    "    elif '美元' in str(string):\n",
    "        return 6.29\n",
    "    elif '欧元' in str(string):\n",
    "        return 7.73\n",
    "    elif '万' in str(string):\n",
    "        return 1.00\n",
    "    else:\n",
    "        return np.nan\n",
    "    \n",
    "auth_capital['ex_rate'] = auth_capital['unit'].apply(get_ex_rate)"
   ]
  },
  {
   "cell_type": "code",
   "execution_count": 209,
   "metadata": {},
   "outputs": [],
   "source": [
    "data_clean['auth_capital'] = auth_capital[0] * auth_capital['ex_rate']"
   ]
  },
  {
   "cell_type": "code",
   "execution_count": 210,
   "metadata": {},
   "outputs": [
    {
     "data": {
      "text/plain": [
       "0    235875.0000\n",
       "1     27570.9972\n",
       "2       314.5000\n",
       "3     28430.8000\n",
       "4     28430.8000\n",
       "Name: auth_capital, dtype: float64"
      ]
     },
     "execution_count": 210,
     "metadata": {},
     "output_type": "execute_result"
    }
   ],
   "source": [
    "data_clean['auth_capital'].head()"
   ]
  },
  {
   "cell_type": "code",
   "execution_count": 211,
   "metadata": {},
   "outputs": [
    {
     "data": {
      "text/plain": [
       "array(['4天/周', '5天/周', '3天/周', '2天/周', '6天/周'], dtype=object)"
      ]
     },
     "execution_count": 211,
     "metadata": {},
     "output_type": "execute_result"
    }
   ],
   "source": [
    "data['day_per_week'].unique()"
   ]
  },
  {
   "cell_type": "code",
   "execution_count": 212,
   "metadata": {},
   "outputs": [],
   "source": [
    "data_clean.loc[data['day_per_week'] == '2天/周', 'day_per_week'] = 2\n",
    "data_clean.loc[data['day_per_week'] == '3天/周', 'day_per_week'] = 3\n",
    "data_clean.loc[data['day_per_week'] == '4天/周', 'day_per_week'] = 4\n",
    "data_clean.loc[data['day_per_week'] == '5天/周', 'day_per_week'] = 5\n",
    "data_clean.loc[data['day_per_week'] == '6天/周', 'day_per_week'] = 6"
   ]
  },
  {
   "cell_type": "code",
   "execution_count": 213,
   "metadata": {},
   "outputs": [
    {
     "data": {
      "text/plain": [
       "array(['2000人以上', '500-2000人', nan, '50-150人', '15-50人', '150-500人',\n",
       "       '少于15人', '5000人以上'], dtype=object)"
      ]
     },
     "execution_count": 213,
     "metadata": {},
     "output_type": "execute_result"
    }
   ],
   "source": [
    "data.num_employee.unique()"
   ]
  },
  {
   "cell_type": "code",
   "execution_count": 214,
   "metadata": {},
   "outputs": [],
   "source": [
    "data_clean.loc[data['num_employee'] == '少于15人', 'num_employee'] = '小型企业'\n",
    "data_clean.loc[data['num_employee'] == '15-50人', 'num_employee'] = '小型企业'\n",
    "data_clean.loc[data['num_employee'] == '50-150人', 'num_employee'] = '小型企业'\n",
    "data_clean.loc[data['num_employee'] == '150-500人', 'num_employee'] = '中型企业'\n",
    "data_clean.loc[data['num_employee'] == '500-2000人', 'num_employee'] = '中型企业'\n",
    "data_clean.loc[data['num_employee'] == '2000人以上', 'num_employee'] = '大型企业'\n",
    "data_clean.loc[data['num_employee'] == '5000人以上', 'num_employee'] = '大型企业'\n",
    "data_clean.loc[data['num_employee'].isna(), 'num_employee'] = np.nan"
   ]
  },
  {
   "cell_type": "code",
   "execution_count": 215,
   "metadata": {},
   "outputs": [
    {
     "data": {
      "text/plain": [
       "array(['3个月', '4个月', '6个月', '7个月', '5个月', '9个月', '8个月', '10个月', '12个月',\n",
       "       '13个月', '18个月', '14个月', '16个月', '11个月', '15个月', '2个月', '17个月', '1个月'], dtype=object)"
      ]
     },
     "execution_count": 215,
     "metadata": {},
     "output_type": "execute_result"
    }
   ],
   "source": [
    "data.time_span.unique()"
   ]
  },
  {
   "cell_type": "code",
   "execution_count": 216,
   "metadata": {},
   "outputs": [],
   "source": [
    "maping = {}\n",
    "for i in range(1,19):\n",
    "    maping[str(i) + '个月'] = i\n",
    "    \n",
    "data_clean['time_span'] = data['time_span'].map(maping)"
   ]
  },
  {
   "cell_type": "code",
   "execution_count": 217,
   "metadata": {},
   "outputs": [
    {
     "data": {
      "text/html": [
       "<div>\n",
       "<style scoped>\n",
       "    .dataframe tbody tr th:only-of-type {\n",
       "        vertical-align: middle;\n",
       "    }\n",
       "\n",
       "    .dataframe tbody tr th {\n",
       "        vertical-align: top;\n",
       "    }\n",
       "\n",
       "    .dataframe thead th {\n",
       "        text-align: right;\n",
       "    }\n",
       "</style>\n",
       "<table border=\"1\" class=\"dataframe\">\n",
       "  <thead>\n",
       "    <tr style=\"text-align: right;\">\n",
       "      <th></th>\n",
       "      <th>auth_capital</th>\n",
       "      <th>city</th>\n",
       "      <th>com_class</th>\n",
       "      <th>com_fullname</th>\n",
       "      <th>com_intro</th>\n",
       "      <th>com_logo</th>\n",
       "      <th>com_name</th>\n",
       "      <th>day_per_week</th>\n",
       "      <th>est_date</th>\n",
       "      <th>industry</th>\n",
       "      <th>job_academic</th>\n",
       "      <th>job_deadline</th>\n",
       "      <th>job_links</th>\n",
       "      <th>job_title</th>\n",
       "      <th>num_employee</th>\n",
       "      <th>released_time</th>\n",
       "      <th>tag</th>\n",
       "      <th>time_span</th>\n",
       "      <th>update_time</th>\n",
       "      <th>wage</th>\n",
       "    </tr>\n",
       "  </thead>\n",
       "  <tbody>\n",
       "    <tr>\n",
       "      <th>0</th>\n",
       "      <td>235875.0000</td>\n",
       "      <td>北京</td>\n",
       "      <td>公司类型：有限责任公司(台港澳法人独资)</td>\n",
       "      <td>淘宝（中国）软件有限公司</td>\n",
       "      <td>淘宝网是亚太地区较大的网络零售、商圈</td>\n",
       "      <td>https://sxsimg.xiaoyuanzhao.com/FB/BC/FBDB6AC6...</td>\n",
       "      <td>淘宝</td>\n",
       "      <td>4</td>\n",
       "      <td>成立日期：2004-12-07</td>\n",
       "      <td>计算机/互联网</td>\n",
       "      <td>硕士</td>\n",
       "      <td>2018-04-13</td>\n",
       "      <td>https://www.shixiseng.com/intern/inn_g2vpcs8lukcr</td>\n",
       "      <td>【淘宝】算法工程师/算法专家</td>\n",
       "      <td>大型企业</td>\n",
       "      <td>7分钟前</td>\n",
       "      <td>数据挖掘</td>\n",
       "      <td>3</td>\n",
       "      <td>2018-03-21 10:48:06</td>\n",
       "      <td>200-201/天</td>\n",
       "    </tr>\n",
       "    <tr>\n",
       "      <th>1</th>\n",
       "      <td>27570.9972</td>\n",
       "      <td>上海</td>\n",
       "      <td>公司类型：股份有限公司(上市)</td>\n",
       "      <td>游族网络股份有限公司</td>\n",
       "      <td>全球领先的互动娱乐供应商</td>\n",
       "      <td>https://sxsimg.xiaoyuanzhao.com/BD/6D/BD305709...</td>\n",
       "      <td>游族网络</td>\n",
       "      <td>5</td>\n",
       "      <td>成立日期：1995-09-22</td>\n",
       "      <td>计算机/互联网</td>\n",
       "      <td>本科</td>\n",
       "      <td>2020-12-31</td>\n",
       "      <td>https://www.shixiseng.com/intern/inn_46watgzrvqsg</td>\n",
       "      <td>大数据挖掘工程师 （2018校园）</td>\n",
       "      <td>中型企业</td>\n",
       "      <td>18分钟前</td>\n",
       "      <td>软件</td>\n",
       "      <td>4</td>\n",
       "      <td>2018-03-21 10:37:22</td>\n",
       "      <td>160-280/天</td>\n",
       "    </tr>\n",
       "    <tr>\n",
       "      <th>2</th>\n",
       "      <td>314.5000</td>\n",
       "      <td>广州</td>\n",
       "      <td>公司类型：有限责任公司(台港澳法人独资)</td>\n",
       "      <td>广州网易互动娱乐有限公司</td>\n",
       "      <td>国内中国领先的互联网技术公司，游戏行业领导者。</td>\n",
       "      <td>https://sxsimg.xiaoyuanzhao.com/company_logo/2...</td>\n",
       "      <td>网易游戏</td>\n",
       "      <td>4</td>\n",
       "      <td>成立日期：2002-10-15</td>\n",
       "      <td>互联网</td>\n",
       "      <td>本科</td>\n",
       "      <td>2018-03-31</td>\n",
       "      <td>https://www.shixiseng.com/intern/inn_wnfrd8o7wly2</td>\n",
       "      <td>数据挖掘研究实习生（AI方向）</td>\n",
       "      <td>大型企业</td>\n",
       "      <td>32分钟前</td>\n",
       "      <td>数据挖掘</td>\n",
       "      <td>4</td>\n",
       "      <td>2018-03-21 10:23:45</td>\n",
       "      <td>130-150/天</td>\n",
       "    </tr>\n",
       "    <tr>\n",
       "      <th>3</th>\n",
       "      <td>28430.8000</td>\n",
       "      <td>北京</td>\n",
       "      <td>公司类型：有限责任公司(外国法人独资)</td>\n",
       "      <td>百度在线网络技术（北京）有限公司</td>\n",
       "      <td>全球最大的中文搜索引擎、最大的中文网站</td>\n",
       "      <td>https://sxsimg.xiaoyuanzhao.com/0A/80/0A4DB3F4...</td>\n",
       "      <td>百度</td>\n",
       "      <td>4</td>\n",
       "      <td>成立日期：2000-01-18</td>\n",
       "      <td>互联网</td>\n",
       "      <td>本科</td>\n",
       "      <td>2018-04-02</td>\n",
       "      <td>https://www.shixiseng.com/intern/inn_4jjckpzxx469</td>\n",
       "      <td>数据挖掘实习生</td>\n",
       "      <td>大型企业</td>\n",
       "      <td>32分钟前</td>\n",
       "      <td>数据挖掘</td>\n",
       "      <td>4</td>\n",
       "      <td>2018-03-21 10:22:52</td>\n",
       "      <td>150-200/天</td>\n",
       "    </tr>\n",
       "    <tr>\n",
       "      <th>4</th>\n",
       "      <td>28430.8000</td>\n",
       "      <td>北京</td>\n",
       "      <td>公司类型：有限责任公司(外国法人独资)</td>\n",
       "      <td>百度在线网络技术（北京）有限公司</td>\n",
       "      <td>全球最大的中文搜索引擎、最大的中文网站</td>\n",
       "      <td>https://sxsimg.xiaoyuanzhao.com/0A/80/0A4DB3F4...</td>\n",
       "      <td>百度</td>\n",
       "      <td>4</td>\n",
       "      <td>成立日期：2000-01-18</td>\n",
       "      <td>互联网</td>\n",
       "      <td>本科</td>\n",
       "      <td>2018-04-05</td>\n",
       "      <td>https://www.shixiseng.com/intern/inn_zyepnukaulmp</td>\n",
       "      <td>数据挖掘实习生</td>\n",
       "      <td>大型企业</td>\n",
       "      <td>36分钟前</td>\n",
       "      <td>数据挖掘</td>\n",
       "      <td>4</td>\n",
       "      <td>2018-03-21 10:18:57</td>\n",
       "      <td>150-200/天</td>\n",
       "    </tr>\n",
       "    <tr>\n",
       "      <th>5</th>\n",
       "      <td>NaN</td>\n",
       "      <td>NaN</td>\n",
       "      <td>NaN</td>\n",
       "      <td>NaN</td>\n",
       "      <td>NaN</td>\n",
       "      <td>NaN</td>\n",
       "      <td>NaN</td>\n",
       "      <td>4</td>\n",
       "      <td>NaN</td>\n",
       "      <td>NaN</td>\n",
       "      <td>本科</td>\n",
       "      <td>2018-04-02</td>\n",
       "      <td>https://www.shixiseng.com/intern/inn_s6dnbuqbhr14</td>\n",
       "      <td>爬虫工程师</td>\n",
       "      <td>NaN</td>\n",
       "      <td>38分钟前</td>\n",
       "      <td>数据挖掘</td>\n",
       "      <td>3</td>\n",
       "      <td>2018-03-21 10:17:31</td>\n",
       "      <td>150-250/天</td>\n",
       "    </tr>\n",
       "  </tbody>\n",
       "</table>\n",
       "</div>"
      ],
      "text/plain": [
       "   auth_capital city             com_class      com_fullname  \\\n",
       "0   235875.0000   北京  公司类型：有限责任公司(台港澳法人独资)      淘宝（中国）软件有限公司   \n",
       "1    27570.9972   上海       公司类型：股份有限公司(上市)        游族网络股份有限公司   \n",
       "2      314.5000   广州  公司类型：有限责任公司(台港澳法人独资)      广州网易互动娱乐有限公司   \n",
       "3    28430.8000   北京   公司类型：有限责任公司(外国法人独资)  百度在线网络技术（北京）有限公司   \n",
       "4    28430.8000   北京   公司类型：有限责任公司(外国法人独资)  百度在线网络技术（北京）有限公司   \n",
       "5           NaN  NaN                   NaN               NaN   \n",
       "\n",
       "                 com_intro                                           com_logo  \\\n",
       "0       淘宝网是亚太地区较大的网络零售、商圈  https://sxsimg.xiaoyuanzhao.com/FB/BC/FBDB6AC6...   \n",
       "1             全球领先的互动娱乐供应商  https://sxsimg.xiaoyuanzhao.com/BD/6D/BD305709...   \n",
       "2  国内中国领先的互联网技术公司，游戏行业领导者。  https://sxsimg.xiaoyuanzhao.com/company_logo/2...   \n",
       "3      全球最大的中文搜索引擎、最大的中文网站  https://sxsimg.xiaoyuanzhao.com/0A/80/0A4DB3F4...   \n",
       "4      全球最大的中文搜索引擎、最大的中文网站  https://sxsimg.xiaoyuanzhao.com/0A/80/0A4DB3F4...   \n",
       "5                      NaN                                                NaN   \n",
       "\n",
       "  com_name  day_per_week         est_date industry job_academic job_deadline  \\\n",
       "0       淘宝             4  成立日期：2004-12-07  计算机/互联网           硕士   2018-04-13   \n",
       "1     游族网络             5  成立日期：1995-09-22  计算机/互联网           本科   2020-12-31   \n",
       "2     网易游戏             4  成立日期：2002-10-15      互联网           本科   2018-03-31   \n",
       "3       百度             4  成立日期：2000-01-18      互联网           本科   2018-04-02   \n",
       "4       百度             4  成立日期：2000-01-18      互联网           本科   2018-04-05   \n",
       "5      NaN             4              NaN      NaN           本科   2018-04-02   \n",
       "\n",
       "                                           job_links          job_title  \\\n",
       "0  https://www.shixiseng.com/intern/inn_g2vpcs8lukcr     【淘宝】算法工程师/算法专家   \n",
       "1  https://www.shixiseng.com/intern/inn_46watgzrvqsg  大数据挖掘工程师 （2018校园）   \n",
       "2  https://www.shixiseng.com/intern/inn_wnfrd8o7wly2    数据挖掘研究实习生（AI方向）   \n",
       "3  https://www.shixiseng.com/intern/inn_4jjckpzxx469            数据挖掘实习生   \n",
       "4  https://www.shixiseng.com/intern/inn_zyepnukaulmp            数据挖掘实习生   \n",
       "5  https://www.shixiseng.com/intern/inn_s6dnbuqbhr14              爬虫工程师   \n",
       "\n",
       "  num_employee released_time   tag  time_span          update_time       wage  \n",
       "0         大型企业          7分钟前  数据挖掘          3  2018-03-21 10:48:06  200-201/天  \n",
       "1         中型企业         18分钟前    软件          4  2018-03-21 10:37:22  160-280/天  \n",
       "2         大型企业         32分钟前  数据挖掘          4  2018-03-21 10:23:45  130-150/天  \n",
       "3         大型企业         32分钟前  数据挖掘          4  2018-03-21 10:22:52  150-200/天  \n",
       "4         大型企业         36分钟前  数据挖掘          4  2018-03-21 10:18:57  150-200/天  \n",
       "5          NaN         38分钟前  数据挖掘          3  2018-03-21 10:17:31  150-250/天  "
      ]
     },
     "execution_count": 217,
     "metadata": {},
     "output_type": "execute_result"
    }
   ],
   "source": [
    "data_clean.head(6)"
   ]
  },
  {
   "cell_type": "code",
   "execution_count": 218,
   "metadata": {},
   "outputs": [
    {
     "data": {
      "text/plain": [
       "array(['200-201/天', '160-280/天', '130-150/天', '150-200/天', '150-250/天',\n",
       "       '200-250/天', '80-120/天', '120-199/天', '100-200/天', '220-280/天',\n",
       "       '180-270/天', '230-270/天', '80-90/天', '200-300/天', '114-180/天',\n",
       "       '120-180/天', '100-110/天', '120-200/天', '120-150/天', '180-250/天',\n",
       "       '200-400/天', '150-300/天', '99-100/天', '30-50/天', '190-207/天',\n",
       "       '100-150/天', '40-60/天', '120-198/天', '200-350/天', '150-165/天',\n",
       "       '100-115/天', '200-260/天', '119-121/天', '150-193/天', '180-256/天',\n",
       "       '300-350/天', '190-220/天', '110-180/天', '170-220/天', '150-220/天',\n",
       "       '100-130/天', '500-900/天', '300-500/天', '225-250/天', '250-400/天',\n",
       "       '100-120/天', '235-236/天', '96-100/天', '100-194/天', '140-200/天',\n",
       "       '50-100/天', '120-160/天', '93-100/天', '100-148/天', '100-149/天',\n",
       "       '199-200/天', '180-260/天', '170-200/天', '280-400/天', '120-170/天',\n",
       "       '200-256/天', '80-81/天', '80-150/天', '200-220/天', '200-230/天',\n",
       "       '300-400/天', '300-600/天', '150-151/天', '155-270/天', '90-150/天',\n",
       "       '160-300/天', '160-200/天', '150-180/天', '160-240/天', '500-700/天',\n",
       "       '80-100/天', '130-260/天', '120-130/天', '350-400/天', '150-260/天',\n",
       "       '280-320/天', '200-298/天', '250-350/天', '180-220/天', '100-111/天',\n",
       "       '130-160/天', '399-401/天', '100-160/天', '180-200/天', '199-201/天',\n",
       "       '170-172/天', '250-300/天', '140-240/天', '350-370/天', '50-70/天',\n",
       "       '140-180/天', '180-299/天', '35-40/天', '300-450/天', '80-160/天',\n",
       "       '320-400/天', '70-120/天', '186-232/天', '139-140/天', '120-240/天',\n",
       "       '20-30/天', '149-151/天', '115-145/天', '580-860/天', '200-299/天',\n",
       "       '100-180/天', '200-330/天', '140-160/天', '170-250/天', '220-330/天',\n",
       "       '230-321/天', '100-140/天', '240-480/天', '270-300/天', '180-280/天',\n",
       "       '60-110/天', '320-350/天', '120-220/天', '60-120/天', '400-450/天',\n",
       "       '150-210/天', '100-195/天', '400-600/天', '250-450/天', '160-180/天',\n",
       "       '140-199/天', '150-240/天', '250-500/天', '220-270/天', '120-140/天',\n",
       "       '225-320/天', '270-320/天', '120-236/天', '100-197/天', '180-300/天',\n",
       "       '299-300/天', '50-80/天', '249-250/天', '400-500/天', '200-270/天',\n",
       "       '570-770/天', '400-401/天', '180-350/天', '125-150/天', '34-75/天',\n",
       "       '150-160/天', '50-75/天', '110-140/天', '110-190/天', '140-141/天',\n",
       "       '260-320/天', '160-320/天', '10-20/天', '180-240/天', '500-1000/天',\n",
       "       '240-300/天', '240-470/天', '350-450/天', '130-180/天', '200-240/天',\n",
       "       '60-90/天', '50-60/天', '90-180/天', '450-680/天', '200-320/天',\n",
       "       '700-900/天', '120-139/天', '180-248/天', '280-370/天', '220-400/天',\n",
       "       '40-80/天', '500-800/天', '400-800/天', '240-400/天', '70-140/天',\n",
       "       '280-300/天', '25-50/天', '230-350/天', '399-400/天', '200-286/天',\n",
       "       '500-510/天', '350-700/天', '180-360/天', '220-325/天', '70-119/天',\n",
       "       '90-120/天', '210-240/天', '70-100/天', '150-280/天'], dtype=object)"
      ]
     },
     "execution_count": 218,
     "metadata": {},
     "output_type": "execute_result"
    }
   ],
   "source": [
    "data['wage'].unique()"
   ]
  },
  {
   "cell_type": "code",
   "execution_count": 219,
   "metadata": {},
   "outputs": [
    {
     "data": {
      "text/plain": [
       "0    200.5\n",
       "1    220.0\n",
       "2    140.0\n",
       "3    175.0\n",
       "4    175.0\n",
       "Name: avg_wage, dtype: float64"
      ]
     },
     "execution_count": 219,
     "metadata": {},
     "output_type": "execute_result"
    }
   ],
   "source": [
    "data_clean['avg_wage'] = data['wage'].str.extract('(\\d+)-(\\d+)', expand=True).astype('int').mean(axis=1)\n",
    "data_clean['avg_wage'].head()"
   ]
  },
  {
   "cell_type": "code",
   "execution_count": 220,
   "metadata": {},
   "outputs": [
    {
     "data": {
      "text/plain": [
       "132                NaN\n",
       "747    成立日期：2016-09-21\n",
       "263    成立日期：2012-07-10\n",
       "423    成立日期：2008-08-25\n",
       "779    成立日期：2015-07-13\n",
       "Name: est_date, dtype: object"
      ]
     },
     "execution_count": 220,
     "metadata": {},
     "output_type": "execute_result"
    }
   ],
   "source": [
    "data['est_date'].sample(5)"
   ]
  },
  {
   "cell_type": "code",
   "execution_count": 221,
   "metadata": {},
   "outputs": [],
   "source": [
    "data_clean['est_date'] = pd.to_datetime(data['est_date'].str.extract('：([\\d-]+)', expand=False))"
   ]
  },
  {
   "cell_type": "code",
   "execution_count": 222,
   "metadata": {},
   "outputs": [],
   "source": [
    "data_clean['job_deadline'] = pd.to_datetime(data['job_deadline'])"
   ]
  },
  {
   "cell_type": "code",
   "execution_count": 223,
   "metadata": {},
   "outputs": [],
   "source": [
    "mapp = {'分钟':'newest', '小时':'newest', '天':'new', '周':'acceptable', '月':'old'}\n",
    "data_clean['released_time'] = data['released_time'].str.extract('\\d+(.*?)前', expand=False).map(mapp)"
   ]
  },
  {
   "cell_type": "code",
   "execution_count": 224,
   "metadata": {},
   "outputs": [],
   "source": [
    "data_clean['update_time'] = pd.to_datetime(data['update_time'])"
   ]
  },
  {
   "cell_type": "code",
   "execution_count": 225,
   "metadata": {},
   "outputs": [
    {
     "data": {
      "text/plain": [
       "array(['北京', '上海', '广州', nan, '南京', '深圳', '宁波', '杭州', '西安', '成都', '合肥',\n",
       "       '珠海市', '其他', '重庆', '武汉', '无锡', '天津', '珠海 深圳', '长沙', '厦门', '珠海',\n",
       "       '济南', '香港', '苏州', '上海漕河泾开发区', '晋江', '东莞', '成都市', '大连', '福州', '沈阳'], dtype=object)"
      ]
     },
     "execution_count": 225,
     "metadata": {},
     "output_type": "execute_result"
    }
   ],
   "source": [
    "data['city'].unique()"
   ]
  },
  {
   "cell_type": "code",
   "execution_count": 226,
   "metadata": {},
   "outputs": [],
   "source": [
    "data_clean.loc[data_clean['city'] == '成都市', 'city'] = '成都'\n",
    "data_clean.loc[data_clean['city'].isin(['珠海市', '珠海 深圳', '珠海']), 'city'] = '珠海'\n",
    "data_clean.loc[data_clean['city'] == '上海漕河泾开发区', 'city'] = '上海'"
   ]
  },
  {
   "cell_type": "code",
   "execution_count": 227,
   "metadata": {},
   "outputs": [
    {
     "data": {
      "text/plain": [
       "['公司类型：有限责任公司(台港澳法人独资)',\n",
       " '公司类型：股份有限公司(上市)',\n",
       " '公司类型：有限责任公司(外国法人独资)',\n",
       " nan,\n",
       " '公司类型：有限责任公司',\n",
       " '公司类型：有限责任公司（法人独资）',\n",
       " '公司类型：其他有限责任公司',\n",
       " ' ',\n",
       " '公司类型：其他股份有限公司(非上市)',\n",
       " '公司类型：有限责任公司(中外合资)',\n",
       " '公司类型：有限责任公司(自然人投资或控股)',\n",
       " '公司类型：有限责任公司(自然人独资)',\n",
       " '公司类型：有限责任公司（自然人投资或控股）',\n",
       " '公司类型：有限责任公司(法人独资)',\n",
       " '公司类型：有限责任公司分公司（自然人独资）',\n",
       " '公司类型：股份有限公司(中外合资、上市)',\n",
       " '公司类型：有限责任公司（台港澳法人独资）',\n",
       " '公司类型：有限责任公司\\n',\n",
       " '公司类型：有限责任公司（自然人独资）',\n",
       " '公司类型：有限责任公司（自然人投资或控股的法人独资）',\n",
       " '公司类型：股份有限公司(非上市、自然人投资或控股)',\n",
       " '公司类型：有限责任公司(台港澳与境内合资)',\n",
       " '公司类型：无',\n",
       " '公司类型：股份有限公司分公司(上市、国有控股)',\n",
       " '公司类型：私营有限责任公司(自然人控股或私营性质企业控股)',\n",
       " '公司类型：全民所有制',\n",
       " '公司类型：有限责任公司（外国法人独资）',\n",
       " '公司类型：股份有限公司(非上市)',\n",
       " '公司类型：股份有限公司(上市、自然人投资或控股)',\n",
       " '公司类型：股份有限公司(台港澳与境内合资、上市)',\n",
       " '公司类型：其他股份有限公司(上市)',\n",
       " '公司类型：有限责任公司分公司（非自然人投资或控股的法人独资）',\n",
       " '公司类型：其他股份有限公司（上市）',\n",
       " '公司类型：有限责任公司（非自然人投资或控股的法人独资）',\n",
       " '公司类型：股份有限公司',\n",
       " '公司类型：非上市股份有限公司',\n",
       " '公司类型：分公司',\n",
       " '公司类型：股份有限公司（上市、自然人投资或控股）',\n",
       " '公司类型：有限合伙',\n",
       " '公司类型：外商投资公司分公司',\n",
       " '公司类型：有限责任公司(台港澳与外国投资者合资)',\n",
       " '公司类型：股份有限公司（非上市）',\n",
       " '公司类型：有限责任公司(外商投资企业法人独资)',\n",
       " '公司类型：上市股份有限公司',\n",
       " '公司类型：股份有限公司(台港澳与境内合资、未上市)',\n",
       " '公司类型：股份有限公司（非上市、自然人投资或控股）',\n",
       " '公司类型：股份有限公司（台港澳与境内合资、未上市）',\n",
       " '公司类型：股份有限公司(中外合资、未上市)']"
      ]
     },
     "execution_count": 227,
     "metadata": {},
     "output_type": "execute_result"
    }
   ],
   "source": [
    "list(data['com_class'].unique())"
   ]
  },
  {
   "cell_type": "code",
   "execution_count": 228,
   "metadata": {},
   "outputs": [],
   "source": [
    "def get_com_type(x):\n",
    "    string = str(x)\n",
    "    if string == None:\n",
    "        return np.nan\n",
    "    elif ('非上市' in string) or ('未上市' in string):\n",
    "        return '股份有限公司（未上市）'\n",
    "    elif '股份' in string:\n",
    "        return '股份有限公司（上市）'\n",
    "    elif '责任' in string:\n",
    "        return '有限责任公司'\n",
    "    elif '外商投资' in string:\n",
    "        return '外商投资公司'\n",
    "    elif '有限合伙' in string:\n",
    "        return '有限合伙企业'\n",
    "    elif '全民所有' in string:\n",
    "        return '国有企业'\n",
    "    else:\n",
    "        return np.nan\n",
    "    \n",
    "data_clean['com_class'] = data['com_class'].apply(get_com_type)"
   ]
  },
  {
   "cell_type": "code",
   "execution_count": 229,
   "metadata": {},
   "outputs": [],
   "source": [
    "data_clean = data_clean.reindex(columns=['com_fullname', 'com_name', 'job_academic', 'job_links', \n",
    "                                         'tag','auth_capital', 'day_per_week', 'num_employee', 'time_span',\n",
    "                                         'avg_wage', 'est_date', 'job_deadline', 'released_time',\n",
    "                                         'update_time', 'city', 'com_class', 'com_intro', 'job_title',\n",
    "                                         'com_logo', 'industry'])"
   ]
  },
  {
   "cell_type": "code",
   "execution_count": 230,
   "metadata": {},
   "outputs": [],
   "source": [
    "data_clean.to_csv(r'C:\\Users\\Mr.You\\Desktop\\y\\shixiseng\\data_clean.csv', index = False)"
   ]
  },
  {
   "cell_type": "code",
   "execution_count": 231,
   "metadata": {},
   "outputs": [
    {
     "data": {
      "text/html": [
       "<div>\n",
       "<style scoped>\n",
       "    .dataframe tbody tr th:only-of-type {\n",
       "        vertical-align: middle;\n",
       "    }\n",
       "\n",
       "    .dataframe tbody tr th {\n",
       "        vertical-align: top;\n",
       "    }\n",
       "\n",
       "    .dataframe thead th {\n",
       "        text-align: right;\n",
       "    }\n",
       "</style>\n",
       "<table border=\"1\" class=\"dataframe\">\n",
       "  <thead>\n",
       "    <tr style=\"text-align: right;\">\n",
       "      <th></th>\n",
       "      <th>com_fullname</th>\n",
       "      <th>com_name</th>\n",
       "      <th>job_academic</th>\n",
       "      <th>job_links</th>\n",
       "      <th>tag</th>\n",
       "      <th>auth_capital</th>\n",
       "      <th>day_per_week</th>\n",
       "      <th>num_employee</th>\n",
       "      <th>time_span</th>\n",
       "      <th>avg_wage</th>\n",
       "      <th>est_date</th>\n",
       "      <th>job_deadline</th>\n",
       "      <th>released_time</th>\n",
       "      <th>update_time</th>\n",
       "      <th>city</th>\n",
       "      <th>com_class</th>\n",
       "      <th>com_intro</th>\n",
       "      <th>job_title</th>\n",
       "      <th>com_logo</th>\n",
       "      <th>industry</th>\n",
       "    </tr>\n",
       "  </thead>\n",
       "  <tbody>\n",
       "    <tr>\n",
       "      <th>109</th>\n",
       "      <td>中国电信股份有限公司北京研究院</td>\n",
       "      <td>中国电信北研院</td>\n",
       "      <td>不限</td>\n",
       "      <td>https://www.shixiseng.com/intern/inn_cjdltm75lgex</td>\n",
       "      <td>数据挖掘</td>\n",
       "      <td>NaN</td>\n",
       "      <td>3</td>\n",
       "      <td>中型企业</td>\n",
       "      <td>3</td>\n",
       "      <td>175.0</td>\n",
       "      <td>2003-09-08</td>\n",
       "      <td>2018-04-02</td>\n",
       "      <td>new</td>\n",
       "      <td>2018-03-19 10:10:04</td>\n",
       "      <td>北京</td>\n",
       "      <td>股份有限公司（上市）</td>\n",
       "      <td>中国电信集团公司为适应集团公司发展和电信市场竞争需要，于2001年4月18日挂牌成立的科研机构</td>\n",
       "      <td>算法实习生</td>\n",
       "      <td>https://sxsimg.xiaoyuanzhao.com/24/A0/241E5CD2...</td>\n",
       "      <td>NaN</td>\n",
       "    </tr>\n",
       "    <tr>\n",
       "      <th>678</th>\n",
       "      <td>锥能机器人（上海）有限公司</td>\n",
       "      <td>上海锥能</td>\n",
       "      <td>不限</td>\n",
       "      <td>https://www.shixiseng.com/intern/inn_thfvryadzxz8</td>\n",
       "      <td>算法</td>\n",
       "      <td>1000.0</td>\n",
       "      <td>5</td>\n",
       "      <td>小型企业</td>\n",
       "      <td>3</td>\n",
       "      <td>175.0</td>\n",
       "      <td>2016-06-01</td>\n",
       "      <td>2018-03-28</td>\n",
       "      <td>new</td>\n",
       "      <td>2018-03-19 10:47:41</td>\n",
       "      <td>上海</td>\n",
       "      <td>有限责任公司</td>\n",
       "      <td>朝气蓬勃的高科技创业企业</td>\n",
       "      <td>算法工程师实习生</td>\n",
       "      <td>https://sxsimg.xiaoyuanzhao.com/71/2D/713CB83F...</td>\n",
       "      <td>计算机/互联网,机械制造</td>\n",
       "    </tr>\n",
       "  </tbody>\n",
       "</table>\n",
       "</div>"
      ],
      "text/plain": [
       "        com_fullname com_name job_academic  \\\n",
       "109  中国电信股份有限公司北京研究院  中国电信北研院           不限   \n",
       "678    锥能机器人（上海）有限公司     上海锥能           不限   \n",
       "\n",
       "                                             job_links   tag  auth_capital  \\\n",
       "109  https://www.shixiseng.com/intern/inn_cjdltm75lgex  数据挖掘           NaN   \n",
       "678  https://www.shixiseng.com/intern/inn_thfvryadzxz8    算法        1000.0   \n",
       "\n",
       "     day_per_week num_employee  time_span  avg_wage   est_date job_deadline  \\\n",
       "109             3         中型企业          3     175.0 2003-09-08   2018-04-02   \n",
       "678             5         小型企业          3     175.0 2016-06-01   2018-03-28   \n",
       "\n",
       "    released_time         update_time city   com_class  \\\n",
       "109           new 2018-03-19 10:10:04   北京  股份有限公司（上市）   \n",
       "678           new 2018-03-19 10:47:41   上海      有限责任公司   \n",
       "\n",
       "                                           com_intro job_title  \\\n",
       "109  中国电信集团公司为适应集团公司发展和电信市场竞争需要，于2001年4月18日挂牌成立的科研机构     算法实习生   \n",
       "678                                     朝气蓬勃的高科技创业企业  算法工程师实习生   \n",
       "\n",
       "                                              com_logo      industry  \n",
       "109  https://sxsimg.xiaoyuanzhao.com/24/A0/241E5CD2...           NaN  \n",
       "678  https://sxsimg.xiaoyuanzhao.com/71/2D/713CB83F...  计算机/互联网,机械制造  "
      ]
     },
     "execution_count": 231,
     "metadata": {},
     "output_type": "execute_result"
    }
   ],
   "source": [
    "data_clean.sample(2)"
   ]
  },
  {
   "cell_type": "code",
   "execution_count": 232,
   "metadata": {},
   "outputs": [
    {
     "data": {
      "text/plain": [
       "Index(['北京', '上海', '杭州', '深圳', '广州', '成都', '南京', '武汉', '西安', '苏州', '重庆', '沈阳',\n",
       "       '珠海', '合肥', '天津', '其他', '东莞', '厦门', '无锡', '晋江', '宁波', '济南', '福州', '香港',\n",
       "       '大连', '长沙'],\n",
       "      dtype='object')"
      ]
     },
     "execution_count": 232,
     "metadata": {},
     "output_type": "execute_result"
    }
   ],
   "source": [
    "city = data_clean['city'].value_counts()\n",
    "city.index"
   ]
  },
  {
   "cell_type": "code",
   "execution_count": 233,
   "metadata": {},
   "outputs": [
    {
     "data": {
      "text/plain": [
       "Text(0,0.5,'城市')"
      ]
     },
     "execution_count": 233,
     "metadata": {},
     "output_type": "execute_result"
    },
    {
     "data": {
      "image/png": "[encoded data removed]",
      "text/plain": [
       "<Figure size 1080x360 with 1 Axes>"
      ]
     },
     "metadata": {
      "needs_background": "light"
     },
     "output_type": "display_data"
    }
   ],
   "source": [
    "fig,ax1 = plt.subplots(1,1,figsize=(15,5))\n",
    "sns.barplot(x=city.index,y=city.values)\n",
    "ax1.set_title('城市与职位数量')\n",
    "ax1.set_xlabel('数量',fontsize=15)\n",
    "ax1.set_ylabel('城市',fontsize=15)"
   ]
  },
  {
   "cell_type": "code",
   "execution_count": 234,
   "metadata": {},
   "outputs": [],
   "source": [
    "city_pct = (city/city.sum()).map(lambda x: '{:.2%}'.format(x))"
   ]
  },
  {
   "cell_type": "code",
   "execution_count": 235,
   "metadata": {},
   "outputs": [
    {
     "data": {
      "text/plain": [
       "Index(['北京', '上海', '杭州', '深圳', '广州', '成都', '南京', '武汉', '西安', '苏州', '重庆', '沈阳',\n",
       "       '珠海', '合肥', '天津'],\n",
       "      dtype='object')"
      ]
     },
     "execution_count": 235,
     "metadata": {},
     "output_type": "execute_result"
    }
   ],
   "source": [
    "city_pct[:15].index"
   ]
  },
  {
   "cell_type": "code",
   "execution_count": 236,
   "metadata": {},
   "outputs": [
    {
     "data": {
      "text/plain": [
       "非白三维    10\n",
       "光珀       6\n",
       "虹软       5\n",
       "同花顺      4\n",
       "菜鸟网络     3\n",
       "Name: com_name, dtype: int64"
      ]
     },
     "execution_count": 236,
     "metadata": {},
     "output_type": "execute_result"
    }
   ],
   "source": [
    "data_clean.loc[data_clean['city']=='杭州','com_name'].value_counts()[:5]"
   ]
  },
  {
   "cell_type": "code",
   "execution_count": 237,
   "metadata": {},
   "outputs": [
    {
     "data": {
      "text/plain": [
       "city               \n",
       "上海    华院数据             10\n",
       "      爱奇艺               8\n",
       "      驭势科技              7\n",
       "      纵目科技              4\n",
       "      麦穗人工智能            4\n",
       "北京    百度               21\n",
       "      滴滴出行             19\n",
       "      今日头条             12\n",
       "      京东金融             10\n",
       "      恒润科技              9\n",
       "南京    南京地平线机器人技术        2\n",
       "      金智信息              2\n",
       "      小黑鱼科技             2\n",
       "      佳泰得               1\n",
       "      趋势科技              1\n",
       "合肥    乐职网               3\n",
       "天津    数能科技              1\n",
       "      天瞳威视              1\n",
       "广州    网易游戏              5\n",
       "      探迹                4\n",
       "      佰聆数据              2\n",
       "      欢聚时代（多玩YY）        2\n",
       "      虎牙信息              2\n",
       "成都    天佑飞天              3\n",
       "      知道创宇              2\n",
       "      乐健梦想家             1\n",
       "      博智信息              1\n",
       "      同方赛威讯             1\n",
       "杭州    非白三维             10\n",
       "      光珀                6\n",
       "      虹软                5\n",
       "      同花顺               4\n",
       "      菜鸟网络              3\n",
       "武汉    小弦科技              2\n",
       "      海豚                1\n",
       "      明日数据              1\n",
       "      武汉安天              1\n",
       "      微模式               1\n",
       "沈阳    东软                2\n",
       "      东软集团              2\n",
       "深圳    中科龙智             13\n",
       "      Webot             4\n",
       "      腾讯                3\n",
       "      美图                3\n",
       "      平安科技              3\n",
       "珠海    网钰科技              1\n",
       "      金山WPS             1\n",
       "      筑巢科技              1\n",
       "      西山居               1\n",
       "苏州    意能通               2\n",
       "      国科康成              1\n",
       "      华兴致远              1\n",
       "西安    中科微光              3\n",
       "      Wingspan          2\n",
       "      博彦科技              1\n",
       "      绿盟科技              1\n",
       "      西步数据              1\n",
       "重庆    赛迪技术              2\n",
       "      中国信息通信研究院西部分院     1\n",
       "      德勤全球交付中心          1\n",
       "Name: com_name, dtype: int64"
      ]
     },
     "execution_count": 237,
     "metadata": {},
     "output_type": "execute_result"
    }
   ],
   "source": [
    "def top_by_city(df, n=5):\n",
    "    return df.value_counts()[:n]\n",
    "data_clean.groupby('city').com_name.apply(top_by_city).loc[city_pct[:15].index]"
   ]
  },
  {
   "cell_type": "code",
   "execution_count": 238,
   "metadata": {},
   "outputs": [
    {
     "data": {
      "text/plain": [
       "3644.9407744874716"
      ]
     },
     "execution_count": 238,
     "metadata": {},
     "output_type": "execute_result"
    }
   ],
   "source": [
    "data_clean['salary'] = data_clean['avg_wage'] * data_clean['day_per_week'] * 4\n",
    "data_clean['salary'].mean()"
   ]
  },
  {
   "cell_type": "code",
   "execution_count": 239,
   "metadata": {},
   "outputs": [],
   "source": [
    "salary_by_city = data_clean['salary'].groupby(data_clean['city']).mean()"
   ]
  },
  {
   "cell_type": "code",
   "execution_count": 240,
   "metadata": {},
   "outputs": [
    {
     "data": {
      "text/plain": [
       "city\n",
       "晋江    9000.000000\n",
       "长沙    4500.000000\n",
       "东莞    4150.000000\n",
       "杭州    4139.345455\n",
       "福州    4000.000000\n",
       "Name: salary, dtype: float64"
      ]
     },
     "execution_count": 240,
     "metadata": {},
     "output_type": "execute_result"
    }
   ],
   "source": [
    "salary_by_city.nlargest(5)"
   ]
  },
  {
   "cell_type": "code",
   "execution_count": 241,
   "metadata": {},
   "outputs": [],
   "source": [
    "top10_city = salary_by_city[city_pct.index[:10]].sort_values(ascending=False)"
   ]
  },
  {
   "cell_type": "code",
   "execution_count": 242,
   "metadata": {},
   "outputs": [
    {
     "data": {
      "text/plain": [
       "Text(0,0.5,'平均工资')"
      ]
     },
     "execution_count": 242,
     "metadata": {},
     "output_type": "execute_result"
    },
    {
     "data": {
      "image/png": "[encoded data removed]",
      "text/plain": [
       "<Figure size 720x360 with 1 Axes>"
      ]
     },
     "metadata": {
      "needs_background": "light"
     },
     "output_type": "display_data"
    }
   ],
   "source": [
    "fig,ax1 = plt.subplots(1,1,figsize=(10,5))\n",
    "sns.barplot(x=top10_city.index,y=top10_city.values)\n",
    "ax1.set_title('北上广深杭等城市平均实习工资')\n",
    "ax1.set_xlabel('城市',fontsize=15)\n",
    "ax1.set_ylabel('平均工资',fontsize=15)"
   ]
  },
  {
   "cell_type": "code",
   "execution_count": 243,
   "metadata": {},
   "outputs": [
    {
     "data": {
      "text/plain": [
       "<matplotlib.axes._subplots.AxesSubplot at 0x2dac2624a8>"
      ]
     },
     "execution_count": 243,
     "metadata": {},
     "output_type": "execute_result"
    },
    {
     "data": {
      "image/png": "[encoded data removed]",
      "text/plain": [
       "<Figure size 720x648 with 1 Axes>"
      ]
     },
     "metadata": {
      "needs_background": "light"
     },
     "output_type": "display_data"
    }
   ],
   "source": [
    "top10_city_box = data_clean.loc[data_clean['city'].isin(top10_city.index)]\n",
    "fig,ax1 = plt.subplots(1,1,figsize=(10,9))\n",
    "sns.violinplot(x ='salary', y ='city', data = top10_city_box)"
   ]
  },
  {
   "cell_type": "code",
   "execution_count": 244,
   "metadata": {},
   "outputs": [
    {
     "data": {
      "text/plain": [
       "本科    435\n",
       "硕士    267\n",
       "不限    160\n",
       "大专     12\n",
       "博士      4\n",
       "Name: job_academic, dtype: int64"
      ]
     },
     "execution_count": 244,
     "metadata": {},
     "output_type": "execute_result"
    }
   ],
   "source": [
    "job_academic = data_clean['job_academic'].value_counts()\n",
    "job_academic"
   ]
  },
  {
   "cell_type": "code",
   "execution_count": 245,
   "metadata": {},
   "outputs": [
    {
     "data": {
      "text/plain": [
       "([<matplotlib.patches.Wedge at 0x2dac3504e0>,\n",
       "  <matplotlib.patches.Wedge at 0x2dac350be0>,\n",
       "  <matplotlib.patches.Wedge at 0x2dac3593c8>,\n",
       "  <matplotlib.patches.Wedge at 0x2dac359b70>,\n",
       "  <matplotlib.patches.Wedge at 0x2dac360358>],\n",
       " [Text(0.0157433,1.09989,'本科'),\n",
       "  Text(-0.660494,-0.879629,'硕士'),\n",
       "  Text(0.850467,-0.697643,'不限'),\n",
       "  Text(1.09718,-0.0786517,'大专'),\n",
       "  Text(1.29987,-0.0186058,'博士')],\n",
       " [Text(0.00858723,0.599939,'49.5%'),\n",
       "  Text(-0.360269,-0.479798,'30.4%'),\n",
       "  Text(0.463891,-0.380532,'18.2%'),\n",
       "  Text(0.598464,-0.0429009,'1.4%'),\n",
       "  Text(0.799918,-0.0114497,'0.5%')])"
      ]
     },
     "execution_count": 245,
     "metadata": {},
     "output_type": "execute_result"
    },
    {
     "data": {
      "image/png": "[encoded data removed]",
      "text/plain": [
       "<Figure size 432x288 with 1 Axes>"
      ]
     },
     "metadata": {},
     "output_type": "display_data"
    }
   ],
   "source": [
    "plt.pie(job_academic.values, labels=job_academic.index,explode=(0,0,0,0,0.2),autopct='%1.1f%%')"
   ]
  },
  {
   "cell_type": "code",
   "execution_count": 246,
   "metadata": {},
   "outputs": [
    {
     "data": {
      "text/plain": [
       "job_academic\n",
       "大专    2165.000000\n",
       "不限    3570.525000\n",
       "本科    3622.266667\n",
       "硕士    3786.546816\n",
       "博士    4075.000000\n",
       "Name: salary, dtype: float64"
      ]
     },
     "execution_count": 246,
     "metadata": {},
     "output_type": "execute_result"
    }
   ],
   "source": [
    "data_clean.groupby(['job_academic'])['salary'].mean().sort_values()"
   ]
  },
  {
   "cell_type": "code",
   "execution_count": 247,
   "metadata": {},
   "outputs": [
    {
     "data": {
      "text/plain": [
       "<matplotlib.axes._subplots.AxesSubplot at 0x2dac370da0>"
      ]
     },
     "execution_count": 247,
     "metadata": {},
     "output_type": "execute_result"
    },
    {
     "data": {
      "image/png": "[encoded data removed]",
      "text/plain": [
       "<Figure size 432x288 with 1 Axes>"
      ]
     },
     "metadata": {
      "needs_background": "light"
     },
     "output_type": "display_data"
    }
   ],
   "source": [
    "sns.boxplot(x=\"job_academic\", y=\"salary\", data=data_clean)"
   ]
  },
  {
   "cell_type": "code",
   "execution_count": 248,
   "metadata": {},
   "outputs": [
    {
     "data": {
      "text/plain": [
       "array(['计算机/互联网', '互联网', nan, '医药', '企业服务', '互联网,金融/保险', '金融', '金融/保险',\n",
       "       '生活服务,计算机/互联网', '其他', 'NGO', '通信,计算机/互联网', '餐饮', '生活服务,酒店', '互联网金融',\n",
       "       '计算机/互联网,金融', '互联网,其它', '计算机/互联网,文化传媒', '软件', '金融,计算机/互联网', '教育培训',\n",
       "       '文化传媒', '移动互联网', '互联网,电子商务', '制造工业', '计算机/互联网,医药', '机械制造', '建筑房产',\n",
       "       '计算机/互联网,机械制造', '计算机/互联网,企业服务', '电子', '企业服务,互联网', '文化/传媒',\n",
       "       '通信/电子,制造', '广告', '计算机/互联网 人力资源', '教育/培训,互联网', '互联网,计算机/互联网',\n",
       "       '计算机/互联网,教育培训', '计算机/互联网,通信', '互联网,软件', '通信/电子', '电子商务', '在线旅游',\n",
       "       '互联网,文化/传媒', '计算机/互联网,电子', '咨询', '互联网/金融', '制造', '软件开发', '人工智能',\n",
       "       '互联网,教育/培训', '信息安全', '信息通信', '机械制造,物流运输', '科研', '电子,计算机/互联网',\n",
       "       '计算机/互联网,其他', '教育', '通信,电气', '自动化', '互联网,媒体', '计算机/互联网,物流运输',\n",
       "       '计算机软件', '其它', '科技', '生物/医疗', '建筑/房地产', '汽车电子', '生物/医疗,互联网',\n",
       "       '软件,企业服务', '物流运输', '医药/生物工程，医疗设备/器械，学术/科研', '网络游戏', '医疗器械',\n",
       "       '金融,企业服务', '快消,生物/医疗,计算机/互联网', '通信,电子', '无人驾驶', '互联网，文化/传媒',\n",
       "       '文化传媒,计算机/互联网', '航天/航空'], dtype=object)"
      ]
     },
     "execution_count": 248,
     "metadata": {},
     "output_type": "execute_result"
    }
   ],
   "source": [
    "data_clean['industry'].unique()"
   ]
  },
  {
   "cell_type": "code",
   "execution_count": 249,
   "metadata": {},
   "outputs": [
    {
     "data": {
      "text/html": [
       "<div>\n",
       "<style scoped>\n",
       "    .dataframe tbody tr th:only-of-type {\n",
       "        vertical-align: middle;\n",
       "    }\n",
       "\n",
       "    .dataframe tbody tr th {\n",
       "        vertical-align: top;\n",
       "    }\n",
       "\n",
       "    .dataframe thead th {\n",
       "        text-align: right;\n",
       "    }\n",
       "</style>\n",
       "<table border=\"1\" class=\"dataframe\">\n",
       "  <thead>\n",
       "    <tr style=\"text-align: right;\">\n",
       "      <th></th>\n",
       "      <th>0</th>\n",
       "      <th>1</th>\n",
       "      <th>2</th>\n",
       "      <th>3</th>\n",
       "      <th>4</th>\n",
       "      <th>5</th>\n",
       "    </tr>\n",
       "  </thead>\n",
       "  <tbody>\n",
       "    <tr>\n",
       "      <th>796</th>\n",
       "      <td>生物</td>\n",
       "      <td>医疗</td>\n",
       "      <td>互联网</td>\n",
       "      <td>None</td>\n",
       "      <td>None</td>\n",
       "      <td>None</td>\n",
       "    </tr>\n",
       "    <tr>\n",
       "      <th>146</th>\n",
       "      <td>广告</td>\n",
       "      <td>None</td>\n",
       "      <td>None</td>\n",
       "      <td>None</td>\n",
       "      <td>None</td>\n",
       "      <td>None</td>\n",
       "    </tr>\n",
       "    <tr>\n",
       "      <th>441</th>\n",
       "      <td>计算机</td>\n",
       "      <td>互联网</td>\n",
       "      <td>None</td>\n",
       "      <td>None</td>\n",
       "      <td>None</td>\n",
       "      <td>None</td>\n",
       "    </tr>\n",
       "    <tr>\n",
       "      <th>894</th>\n",
       "      <td>计算机</td>\n",
       "      <td>互联网</td>\n",
       "      <td>None</td>\n",
       "      <td>None</td>\n",
       "      <td>None</td>\n",
       "      <td>None</td>\n",
       "    </tr>\n",
       "    <tr>\n",
       "      <th>408</th>\n",
       "      <td>计算机</td>\n",
       "      <td>互联网</td>\n",
       "      <td>None</td>\n",
       "      <td>None</td>\n",
       "      <td>None</td>\n",
       "      <td>None</td>\n",
       "    </tr>\n",
       "  </tbody>\n",
       "</table>\n",
       "</div>"
      ],
      "text/plain": [
       "       0     1     2     3     4     5\n",
       "796   生物    医疗   互联网  None  None  None\n",
       "146   广告  None  None  None  None  None\n",
       "441  计算机   互联网  None  None  None  None\n",
       "894  计算机   互联网  None  None  None  None\n",
       "408  计算机   互联网  None  None  None  None"
      ]
     },
     "execution_count": 249,
     "metadata": {},
     "output_type": "execute_result"
    }
   ],
   "source": [
    "industry = data_clean['industry'].str.split('/|,|，| ', expand=True)\n",
    "industry.sample(5)"
   ]
  },
  {
   "cell_type": "code",
   "execution_count": 250,
   "metadata": {},
   "outputs": [],
   "source": [
    "industry_top15 = industry.apply(pd.value_counts).sum(axis=1).nlargest(15)"
   ]
  },
  {
   "cell_type": "code",
   "execution_count": 251,
   "metadata": {},
   "outputs": [
    {
     "data": {
      "text/plain": [
       "Text(0,0.5,'职位数量')"
      ]
     },
     "execution_count": 251,
     "metadata": {},
     "output_type": "execute_result"
    },
    {
     "data": {
      "image/png": "[encoded data removed]",
      "text/plain": [
       "<Figure size 720x360 with 1 Axes>"
      ]
     },
     "metadata": {
      "needs_background": "light"
     },
     "output_type": "display_data"
    }
   ],
   "source": [
    "fig,ax1 = plt.subplots(1,1,figsize=(10,5))\n",
    "sns.barplot(x=industry_top15.index,y=industry_top15.values)\n",
    "ax1.set_title('行业对应职位数量')\n",
    "ax1.set_xlabel('行业',fontsize=15)\n",
    "ax1.set_ylabel('职位数量',fontsize=15)"
   ]
  },
  {
   "cell_type": "code",
   "execution_count": 110,
   "metadata": {},
   "outputs": [
    {
     "data": {
      "text/html": [
       "<div>\n",
       "<style scoped>\n",
       "    .dataframe tbody tr th:only-of-type {\n",
       "        vertical-align: middle;\n",
       "    }\n",
       "\n",
       "    .dataframe tbody tr th {\n",
       "        vertical-align: top;\n",
       "    }\n",
       "\n",
       "    .dataframe thead th {\n",
       "        text-align: right;\n",
       "    }\n",
       "</style>\n",
       "<table border=\"1\" class=\"dataframe\">\n",
       "  <thead>\n",
       "    <tr style=\"text-align: right;\">\n",
       "      <th></th>\n",
       "      <th>count</th>\n",
       "      <th>mean</th>\n",
       "    </tr>\n",
       "    <tr>\n",
       "      <th>com_name</th>\n",
       "      <th></th>\n",
       "      <th></th>\n",
       "    </tr>\n",
       "  </thead>\n",
       "  <tbody>\n",
       "    <tr>\n",
       "      <th>百度</th>\n",
       "      <td>21</td>\n",
       "      <td>3256.190476</td>\n",
       "    </tr>\n",
       "    <tr>\n",
       "      <th>滴滴出行</th>\n",
       "      <td>19</td>\n",
       "      <td>3614.736842</td>\n",
       "    </tr>\n",
       "    <tr>\n",
       "      <th>中科龙智</th>\n",
       "      <td>13</td>\n",
       "      <td>3000.000000</td>\n",
       "    </tr>\n",
       "    <tr>\n",
       "      <th>爱奇艺</th>\n",
       "      <td>12</td>\n",
       "      <td>3983.166667</td>\n",
       "    </tr>\n",
       "    <tr>\n",
       "      <th>今日头条</th>\n",
       "      <td>12</td>\n",
       "      <td>6400.500000</td>\n",
       "    </tr>\n",
       "    <tr>\n",
       "      <th>京东金融</th>\n",
       "      <td>10</td>\n",
       "      <td>4845.000000</td>\n",
       "    </tr>\n",
       "    <tr>\n",
       "      <th>非白三维</th>\n",
       "      <td>10</td>\n",
       "      <td>5150.000000</td>\n",
       "    </tr>\n",
       "    <tr>\n",
       "      <th>华院数据</th>\n",
       "      <td>10</td>\n",
       "      <td>3290.000000</td>\n",
       "    </tr>\n",
       "    <tr>\n",
       "      <th>恒润科技</th>\n",
       "      <td>9</td>\n",
       "      <td>1858.666667</td>\n",
       "    </tr>\n",
       "    <tr>\n",
       "      <th>作业帮</th>\n",
       "      <td>9</td>\n",
       "      <td>3444.444444</td>\n",
       "    </tr>\n",
       "    <tr>\n",
       "      <th>三星电子中国研究院</th>\n",
       "      <td>8</td>\n",
       "      <td>2800.000000</td>\n",
       "    </tr>\n",
       "    <tr>\n",
       "      <th>驭势科技</th>\n",
       "      <td>7</td>\n",
       "      <td>3582.857143</td>\n",
       "    </tr>\n",
       "    <tr>\n",
       "      <th>新浪微博</th>\n",
       "      <td>7</td>\n",
       "      <td>2626.000000</td>\n",
       "    </tr>\n",
       "    <tr>\n",
       "      <th>网易</th>\n",
       "      <td>6</td>\n",
       "      <td>3716.666667</td>\n",
       "    </tr>\n",
       "    <tr>\n",
       "      <th>Rokid A-Lab</th>\n",
       "      <td>6</td>\n",
       "      <td>4166.666667</td>\n",
       "    </tr>\n",
       "  </tbody>\n",
       "</table>\n",
       "</div>"
      ],
      "text/plain": [
       "             count         mean\n",
       "com_name                       \n",
       "百度              21  3256.190476\n",
       "滴滴出行            19  3614.736842\n",
       "中科龙智            13  3000.000000\n",
       "爱奇艺             12  3983.166667\n",
       "今日头条            12  6400.500000\n",
       "京东金融            10  4845.000000\n",
       "非白三维            10  5150.000000\n",
       "华院数据            10  3290.000000\n",
       "恒润科技             9  1858.666667\n",
       "作业帮              9  3444.444444\n",
       "三星电子中国研究院        8  2800.000000\n",
       "驭势科技             7  3582.857143\n",
       "新浪微博             7  2626.000000\n",
       "网易               6  3716.666667\n",
       "Rokid A-Lab      6  4166.666667"
      ]
     },
     "execution_count": 110,
     "metadata": {},
     "output_type": "execute_result"
    }
   ],
   "source": [
    "data_clean.groupby('com_name').salary.agg(['count','mean']).sort_values(by='count', ascending=False)[:15]"
   ]
  },
  {
   "cell_type": "code",
   "execution_count": 111,
   "metadata": {},
   "outputs": [
    {
     "data": {
      "text/plain": [
       "小型企业    355\n",
       "中型企业    283\n",
       "大型企业    234\n",
       "Name: num_employee, dtype: int64"
      ]
     },
     "execution_count": 111,
     "metadata": {},
     "output_type": "execute_result"
    }
   ],
   "source": [
    "data_clean['num_employee'].value_counts()"
   ]
  },
  {
   "cell_type": "code",
   "execution_count": 115,
   "metadata": {},
   "outputs": [
    {
     "data": {
      "text/plain": [
       "num_employee\n",
       "中型企业    3633.823322\n",
       "大型企业    3497.136752\n",
       "小型企业    3748.304225\n",
       "Name: salary, dtype: float64"
      ]
     },
     "execution_count": 115,
     "metadata": {},
     "output_type": "execute_result"
    }
   ],
   "source": [
    "data_clean.groupby('num_employee')['salary'].mean()"
   ]
  },
  {
   "cell_type": "code",
   "execution_count": 116,
   "metadata": {},
   "outputs": [
    {
     "data": {
      "text/plain": [
       "3     289\n",
       "6     190\n",
       "4     113\n",
       "7      73\n",
       "5      67\n",
       "8      35\n",
       "10     34\n",
       "13     20\n",
       "12     17\n",
       "9      11\n",
       "11      8\n",
       "15      6\n",
       "16      4\n",
       "14      4\n",
       "2       3\n",
       "18      2\n",
       "17      1\n",
       "1       1\n",
       "Name: time_span, dtype: int64"
      ]
     },
     "execution_count": 116,
     "metadata": {},
     "output_type": "execute_result"
    }
   ],
   "source": [
    "data_clean['time_span'].value_counts()"
   ]
  },
  {
   "cell_type": "code",
   "execution_count": 133,
   "metadata": {},
   "outputs": [
    {
     "data": {
      "text/html": [
       "<div>\n",
       "<style scoped>\n",
       "    .dataframe tbody tr th:only-of-type {\n",
       "        vertical-align: middle;\n",
       "    }\n",
       "\n",
       "    .dataframe tbody tr th {\n",
       "        vertical-align: top;\n",
       "    }\n",
       "\n",
       "    .dataframe thead th {\n",
       "        text-align: right;\n",
       "    }\n",
       "</style>\n",
       "<table border=\"1\" class=\"dataframe\">\n",
       "  <thead>\n",
       "    <tr style=\"text-align: right;\">\n",
       "      <th></th>\n",
       "      <th>com_fullname</th>\n",
       "      <th>com_name</th>\n",
       "      <th>job_academic</th>\n",
       "      <th>job_links</th>\n",
       "      <th>tag</th>\n",
       "      <th>auth_capital</th>\n",
       "      <th>day_per_week</th>\n",
       "      <th>num_employee</th>\n",
       "      <th>time_span</th>\n",
       "      <th>avg_wage</th>\n",
       "      <th>...</th>\n",
       "      <th>job_deadline</th>\n",
       "      <th>released_time</th>\n",
       "      <th>update_time</th>\n",
       "      <th>city</th>\n",
       "      <th>com_class</th>\n",
       "      <th>com_intro</th>\n",
       "      <th>job_title</th>\n",
       "      <th>com_logo</th>\n",
       "      <th>industry</th>\n",
       "      <th>salary</th>\n",
       "    </tr>\n",
       "  </thead>\n",
       "  <tbody>\n",
       "    <tr>\n",
       "      <th>0</th>\n",
       "      <td>淘宝（中国）软件有限公司</td>\n",
       "      <td>淘宝</td>\n",
       "      <td>硕士</td>\n",
       "      <td>https://www.shixiseng.com/intern/inn_g2vpcs8lukcr</td>\n",
       "      <td>数据挖掘</td>\n",
       "      <td>235875.0000</td>\n",
       "      <td>4</td>\n",
       "      <td>大型企业</td>\n",
       "      <td>3</td>\n",
       "      <td>200.5</td>\n",
       "      <td>...</td>\n",
       "      <td>2018-04-13</td>\n",
       "      <td>7分钟前</td>\n",
       "      <td>2018-03-21 10:48:06</td>\n",
       "      <td>北京</td>\n",
       "      <td>有限责任公司</td>\n",
       "      <td>淘宝网是亚太地区较大的网络零售、商圈</td>\n",
       "      <td>【淘宝】算法工程师/算法专家</td>\n",
       "      <td>https://sxsimg.xiaoyuanzhao.com/FB/BC/FBDB6AC6...</td>\n",
       "      <td>计算机/互联网</td>\n",
       "      <td>3208.0</td>\n",
       "    </tr>\n",
       "    <tr>\n",
       "      <th>1</th>\n",
       "      <td>游族网络股份有限公司</td>\n",
       "      <td>游族网络</td>\n",
       "      <td>本科</td>\n",
       "      <td>https://www.shixiseng.com/intern/inn_46watgzrvqsg</td>\n",
       "      <td>软件</td>\n",
       "      <td>27570.9972</td>\n",
       "      <td>5</td>\n",
       "      <td>中型企业</td>\n",
       "      <td>4</td>\n",
       "      <td>220.0</td>\n",
       "      <td>...</td>\n",
       "      <td>2020-12-31</td>\n",
       "      <td>18分钟前</td>\n",
       "      <td>2018-03-21 10:37:22</td>\n",
       "      <td>上海</td>\n",
       "      <td>股份有限公司（上市）</td>\n",
       "      <td>全球领先的互动娱乐供应商</td>\n",
       "      <td>大数据挖掘工程师 （2018校园）</td>\n",
       "      <td>https://sxsimg.xiaoyuanzhao.com/BD/6D/BD305709...</td>\n",
       "      <td>计算机/互联网</td>\n",
       "      <td>4400.0</td>\n",
       "    </tr>\n",
       "    <tr>\n",
       "      <th>2</th>\n",
       "      <td>广州网易互动娱乐有限公司</td>\n",
       "      <td>网易游戏</td>\n",
       "      <td>本科</td>\n",
       "      <td>https://www.shixiseng.com/intern/inn_wnfrd8o7wly2</td>\n",
       "      <td>数据挖掘</td>\n",
       "      <td>314.5000</td>\n",
       "      <td>4</td>\n",
       "      <td>大型企业</td>\n",
       "      <td>4</td>\n",
       "      <td>140.0</td>\n",
       "      <td>...</td>\n",
       "      <td>2018-03-31</td>\n",
       "      <td>32分钟前</td>\n",
       "      <td>2018-03-21 10:23:45</td>\n",
       "      <td>广州</td>\n",
       "      <td>有限责任公司</td>\n",
       "      <td>国内中国领先的互联网技术公司，游戏行业领导者。</td>\n",
       "      <td>数据挖掘研究实习生（AI方向）</td>\n",
       "      <td>https://sxsimg.xiaoyuanzhao.com/company_logo/2...</td>\n",
       "      <td>互联网</td>\n",
       "      <td>2240.0</td>\n",
       "    </tr>\n",
       "    <tr>\n",
       "      <th>3</th>\n",
       "      <td>百度在线网络技术（北京）有限公司</td>\n",
       "      <td>百度</td>\n",
       "      <td>本科</td>\n",
       "      <td>https://www.shixiseng.com/intern/inn_4jjckpzxx469</td>\n",
       "      <td>数据挖掘</td>\n",
       "      <td>28430.8000</td>\n",
       "      <td>4</td>\n",
       "      <td>大型企业</td>\n",
       "      <td>4</td>\n",
       "      <td>175.0</td>\n",
       "      <td>...</td>\n",
       "      <td>2018-04-02</td>\n",
       "      <td>32分钟前</td>\n",
       "      <td>2018-03-21 10:22:52</td>\n",
       "      <td>北京</td>\n",
       "      <td>有限责任公司</td>\n",
       "      <td>全球最大的中文搜索引擎、最大的中文网站</td>\n",
       "      <td>数据挖掘实习生</td>\n",
       "      <td>https://sxsimg.xiaoyuanzhao.com/0A/80/0A4DB3F4...</td>\n",
       "      <td>互联网</td>\n",
       "      <td>2800.0</td>\n",
       "    </tr>\n",
       "    <tr>\n",
       "      <th>5</th>\n",
       "      <td>NaN</td>\n",
       "      <td>NaN</td>\n",
       "      <td>本科</td>\n",
       "      <td>https://www.shixiseng.com/intern/inn_s6dnbuqbhr14</td>\n",
       "      <td>数据挖掘</td>\n",
       "      <td>NaN</td>\n",
       "      <td>4</td>\n",
       "      <td>NaN</td>\n",
       "      <td>3</td>\n",
       "      <td>200.0</td>\n",
       "      <td>...</td>\n",
       "      <td>2018-04-02</td>\n",
       "      <td>38分钟前</td>\n",
       "      <td>2018-03-21 10:17:31</td>\n",
       "      <td>NaN</td>\n",
       "      <td>NaN</td>\n",
       "      <td>NaN</td>\n",
       "      <td>爬虫工程师</td>\n",
       "      <td>NaN</td>\n",
       "      <td>NaN</td>\n",
       "      <td>3200.0</td>\n",
       "    </tr>\n",
       "  </tbody>\n",
       "</table>\n",
       "<p>5 rows × 21 columns</p>\n",
       "</div>"
      ],
      "text/plain": [
       "       com_fullname com_name job_academic  \\\n",
       "0      淘宝（中国）软件有限公司       淘宝           硕士   \n",
       "1        游族网络股份有限公司     游族网络           本科   \n",
       "2      广州网易互动娱乐有限公司     网易游戏           本科   \n",
       "3  百度在线网络技术（北京）有限公司       百度           本科   \n",
       "5               NaN      NaN           本科   \n",
       "\n",
       "                                           job_links   tag  auth_capital  \\\n",
       "0  https://www.shixiseng.com/intern/inn_g2vpcs8lukcr  数据挖掘   235875.0000   \n",
       "1  https://www.shixiseng.com/intern/inn_46watgzrvqsg    软件    27570.9972   \n",
       "2  https://www.shixiseng.com/intern/inn_wnfrd8o7wly2  数据挖掘      314.5000   \n",
       "3  https://www.shixiseng.com/intern/inn_4jjckpzxx469  数据挖掘    28430.8000   \n",
       "5  https://www.shixiseng.com/intern/inn_s6dnbuqbhr14  数据挖掘           NaN   \n",
       "\n",
       "   day_per_week num_employee  time_span  avg_wage   ...   job_deadline  \\\n",
       "0             4         大型企业          3     200.5   ...     2018-04-13   \n",
       "1             5         中型企业          4     220.0   ...     2020-12-31   \n",
       "2             4         大型企业          4     140.0   ...     2018-03-31   \n",
       "3             4         大型企业          4     175.0   ...     2018-04-02   \n",
       "5             4          NaN          3     200.0   ...     2018-04-02   \n",
       "\n",
       "  released_time         update_time city   com_class                com_intro  \\\n",
       "0          7分钟前 2018-03-21 10:48:06   北京      有限责任公司       淘宝网是亚太地区较大的网络零售、商圈   \n",
       "1         18分钟前 2018-03-21 10:37:22   上海  股份有限公司（上市）             全球领先的互动娱乐供应商   \n",
       "2         32分钟前 2018-03-21 10:23:45   广州      有限责任公司  国内中国领先的互联网技术公司，游戏行业领导者。   \n",
       "3         32分钟前 2018-03-21 10:22:52   北京      有限责任公司      全球最大的中文搜索引擎、最大的中文网站   \n",
       "5         38分钟前 2018-03-21 10:17:31  NaN         NaN                      NaN   \n",
       "\n",
       "           job_title                                           com_logo  \\\n",
       "0     【淘宝】算法工程师/算法专家  https://sxsimg.xiaoyuanzhao.com/FB/BC/FBDB6AC6...   \n",
       "1  大数据挖掘工程师 （2018校园）  https://sxsimg.xiaoyuanzhao.com/BD/6D/BD305709...   \n",
       "2    数据挖掘研究实习生（AI方向）  https://sxsimg.xiaoyuanzhao.com/company_logo/2...   \n",
       "3            数据挖掘实习生  https://sxsimg.xiaoyuanzhao.com/0A/80/0A4DB3F4...   \n",
       "5              爬虫工程师                                                NaN   \n",
       "\n",
       "  industry  salary  \n",
       "0  计算机/互联网  3208.0  \n",
       "1  计算机/互联网  4400.0  \n",
       "2      互联网  2240.0  \n",
       "3      互联网  2800.0  \n",
       "5      NaN  3200.0  \n",
       "\n",
       "[5 rows x 21 columns]"
      ]
     },
     "execution_count": 133,
     "metadata": {},
     "output_type": "execute_result"
    }
   ],
   "source": [
    "est = data_clean.drop_duplicates(subset='com_name')\n",
    "est.head()"
   ]
  },
  {
   "cell_type": "code",
   "execution_count": 136,
   "metadata": {},
   "outputs": [
    {
     "name": "stderr",
     "output_type": "stream",
     "text": [
      "d:\\program\\python\\lib\\site-packages\\ipykernel_launcher.py:1: SettingWithCopyWarning: \n",
      "A value is trying to be set on a copy of a slice from a DataFrame.\n",
      "Try using .loc[row_indexer,col_indexer] = value instead\n",
      "\n",
      "See the caveats in the documentation: http://pandas.pydata.org/pandas-docs/stable/indexing.html#indexing-view-versus-copy\n",
      "  \"\"\"Entry point for launching an IPython kernel.\n"
     ]
    }
   ],
   "source": [
    "est['est_year'] = pd.DatetimeIndex(est.est_date).year\n",
    "num_com_by_year = est.groupby('est_year')['com_name'].count()"
   ]
  },
  {
   "cell_type": "code",
   "execution_count": 132,
   "metadata": {},
   "outputs": [
    {
     "data": {
      "text/plain": [
       "Text(0,0.5,'num')"
      ]
     },
     "execution_count": 132,
     "metadata": {},
     "output_type": "execute_result"
    },
    {
     "data": {
      "image/png": "[encoded data removed]",
      "text/plain": [
       "<Figure size 432x288 with 1 Axes>"
      ]
     },
     "metadata": {
      "needs_background": "light"
     },
     "output_type": "display_data"
    }
   ],
   "source": [
    "plt.plot(num_com_by_year)\n",
    "plt.title('company established by year')\n",
    "plt.xlabel('year')\n",
    "plt.ylabel('num')"
   ]
  },
  {
   "cell_type": "code",
   "execution_count": 168,
   "metadata": {},
   "outputs": [
    {
     "data": {
      "text/html": [
       "<div>\n",
       "<style scoped>\n",
       "    .dataframe tbody tr th:only-of-type {\n",
       "        vertical-align: middle;\n",
       "    }\n",
       "\n",
       "    .dataframe tbody tr th {\n",
       "        vertical-align: top;\n",
       "    }\n",
       "\n",
       "    .dataframe thead th {\n",
       "        text-align: right;\n",
       "    }\n",
       "</style>\n",
       "<table border=\"1\" class=\"dataframe\">\n",
       "  <thead>\n",
       "    <tr style=\"text-align: right;\">\n",
       "      <th>num_employee</th>\n",
       "      <th>中型企业</th>\n",
       "      <th>大型企业</th>\n",
       "      <th>小型企业</th>\n",
       "    </tr>\n",
       "    <tr>\n",
       "      <th>est_year</th>\n",
       "      <th></th>\n",
       "      <th></th>\n",
       "      <th></th>\n",
       "    </tr>\n",
       "  </thead>\n",
       "  <tbody>\n",
       "    <tr>\n",
       "      <th>1980.0</th>\n",
       "      <td>NaN</td>\n",
       "      <td>1.0</td>\n",
       "      <td>NaN</td>\n",
       "    </tr>\n",
       "    <tr>\n",
       "      <th>1990.0</th>\n",
       "      <td>NaN</td>\n",
       "      <td>1.0</td>\n",
       "      <td>NaN</td>\n",
       "    </tr>\n",
       "    <tr>\n",
       "      <th>1991.0</th>\n",
       "      <td>NaN</td>\n",
       "      <td>1.0</td>\n",
       "      <td>NaN</td>\n",
       "    </tr>\n",
       "    <tr>\n",
       "      <th>1992.0</th>\n",
       "      <td>NaN</td>\n",
       "      <td>3.0</td>\n",
       "      <td>NaN</td>\n",
       "    </tr>\n",
       "    <tr>\n",
       "      <th>1993.0</th>\n",
       "      <td>1.0</td>\n",
       "      <td>NaN</td>\n",
       "      <td>NaN</td>\n",
       "    </tr>\n",
       "    <tr>\n",
       "      <th>1994.0</th>\n",
       "      <td>2.0</td>\n",
       "      <td>4.0</td>\n",
       "      <td>NaN</td>\n",
       "    </tr>\n",
       "    <tr>\n",
       "      <th>1995.0</th>\n",
       "      <td>3.0</td>\n",
       "      <td>2.0</td>\n",
       "      <td>NaN</td>\n",
       "    </tr>\n",
       "    <tr>\n",
       "      <th>1996.0</th>\n",
       "      <td>1.0</td>\n",
       "      <td>NaN</td>\n",
       "      <td>1.0</td>\n",
       "    </tr>\n",
       "    <tr>\n",
       "      <th>1997.0</th>\n",
       "      <td>NaN</td>\n",
       "      <td>2.0</td>\n",
       "      <td>NaN</td>\n",
       "    </tr>\n",
       "    <tr>\n",
       "      <th>1998.0</th>\n",
       "      <td>1.0</td>\n",
       "      <td>1.0</td>\n",
       "      <td>NaN</td>\n",
       "    </tr>\n",
       "    <tr>\n",
       "      <th>1999.0</th>\n",
       "      <td>1.0</td>\n",
       "      <td>3.0</td>\n",
       "      <td>NaN</td>\n",
       "    </tr>\n",
       "    <tr>\n",
       "      <th>2000.0</th>\n",
       "      <td>6.0</td>\n",
       "      <td>3.0</td>\n",
       "      <td>NaN</td>\n",
       "    </tr>\n",
       "    <tr>\n",
       "      <th>2001.0</th>\n",
       "      <td>4.0</td>\n",
       "      <td>2.0</td>\n",
       "      <td>NaN</td>\n",
       "    </tr>\n",
       "    <tr>\n",
       "      <th>2002.0</th>\n",
       "      <td>1.0</td>\n",
       "      <td>2.0</td>\n",
       "      <td>1.0</td>\n",
       "    </tr>\n",
       "    <tr>\n",
       "      <th>2003.0</th>\n",
       "      <td>6.0</td>\n",
       "      <td>1.0</td>\n",
       "      <td>NaN</td>\n",
       "    </tr>\n",
       "    <tr>\n",
       "      <th>2004.0</th>\n",
       "      <td>2.0</td>\n",
       "      <td>2.0</td>\n",
       "      <td>3.0</td>\n",
       "    </tr>\n",
       "    <tr>\n",
       "      <th>2005.0</th>\n",
       "      <td>2.0</td>\n",
       "      <td>4.0</td>\n",
       "      <td>1.0</td>\n",
       "    </tr>\n",
       "    <tr>\n",
       "      <th>2006.0</th>\n",
       "      <td>4.0</td>\n",
       "      <td>9.0</td>\n",
       "      <td>1.0</td>\n",
       "    </tr>\n",
       "    <tr>\n",
       "      <th>2007.0</th>\n",
       "      <td>8.0</td>\n",
       "      <td>5.0</td>\n",
       "      <td>1.0</td>\n",
       "    </tr>\n",
       "    <tr>\n",
       "      <th>2008.0</th>\n",
       "      <td>8.0</td>\n",
       "      <td>6.0</td>\n",
       "      <td>4.0</td>\n",
       "    </tr>\n",
       "    <tr>\n",
       "      <th>2009.0</th>\n",
       "      <td>12.0</td>\n",
       "      <td>NaN</td>\n",
       "      <td>7.0</td>\n",
       "    </tr>\n",
       "    <tr>\n",
       "      <th>2010.0</th>\n",
       "      <td>6.0</td>\n",
       "      <td>4.0</td>\n",
       "      <td>2.0</td>\n",
       "    </tr>\n",
       "    <tr>\n",
       "      <th>2011.0</th>\n",
       "      <td>11.0</td>\n",
       "      <td>1.0</td>\n",
       "      <td>8.0</td>\n",
       "    </tr>\n",
       "    <tr>\n",
       "      <th>2012.0</th>\n",
       "      <td>8.0</td>\n",
       "      <td>3.0</td>\n",
       "      <td>4.0</td>\n",
       "    </tr>\n",
       "    <tr>\n",
       "      <th>2013.0</th>\n",
       "      <td>9.0</td>\n",
       "      <td>6.0</td>\n",
       "      <td>14.0</td>\n",
       "    </tr>\n",
       "    <tr>\n",
       "      <th>2014.0</th>\n",
       "      <td>18.0</td>\n",
       "      <td>2.0</td>\n",
       "      <td>26.0</td>\n",
       "    </tr>\n",
       "    <tr>\n",
       "      <th>2015.0</th>\n",
       "      <td>19.0</td>\n",
       "      <td>1.0</td>\n",
       "      <td>37.0</td>\n",
       "    </tr>\n",
       "    <tr>\n",
       "      <th>2016.0</th>\n",
       "      <td>15.0</td>\n",
       "      <td>2.0</td>\n",
       "      <td>40.0</td>\n",
       "    </tr>\n",
       "    <tr>\n",
       "      <th>2017.0</th>\n",
       "      <td>3.0</td>\n",
       "      <td>1.0</td>\n",
       "      <td>38.0</td>\n",
       "    </tr>\n",
       "    <tr>\n",
       "      <th>2018.0</th>\n",
       "      <td>NaN</td>\n",
       "      <td>NaN</td>\n",
       "      <td>2.0</td>\n",
       "    </tr>\n",
       "  </tbody>\n",
       "</table>\n",
       "</div>"
      ],
      "text/plain": [
       "num_employee  中型企业  大型企业  小型企业\n",
       "est_year                      \n",
       "1980.0         NaN   1.0   NaN\n",
       "1990.0         NaN   1.0   NaN\n",
       "1991.0         NaN   1.0   NaN\n",
       "1992.0         NaN   3.0   NaN\n",
       "1993.0         1.0   NaN   NaN\n",
       "1994.0         2.0   4.0   NaN\n",
       "1995.0         3.0   2.0   NaN\n",
       "1996.0         1.0   NaN   1.0\n",
       "1997.0         NaN   2.0   NaN\n",
       "1998.0         1.0   1.0   NaN\n",
       "1999.0         1.0   3.0   NaN\n",
       "2000.0         6.0   3.0   NaN\n",
       "2001.0         4.0   2.0   NaN\n",
       "2002.0         1.0   2.0   1.0\n",
       "2003.0         6.0   1.0   NaN\n",
       "2004.0         2.0   2.0   3.0\n",
       "2005.0         2.0   4.0   1.0\n",
       "2006.0         4.0   9.0   1.0\n",
       "2007.0         8.0   5.0   1.0\n",
       "2008.0         8.0   6.0   4.0\n",
       "2009.0        12.0   NaN   7.0\n",
       "2010.0         6.0   4.0   2.0\n",
       "2011.0        11.0   1.0   8.0\n",
       "2012.0         8.0   3.0   4.0\n",
       "2013.0         9.0   6.0  14.0\n",
       "2014.0        18.0   2.0  26.0\n",
       "2015.0        19.0   1.0  37.0\n",
       "2016.0        15.0   2.0  40.0\n",
       "2017.0         3.0   1.0  38.0\n",
       "2018.0         NaN   NaN   2.0"
      ]
     },
     "execution_count": 168,
     "metadata": {},
     "output_type": "execute_result"
    }
   ],
   "source": [
    "scale_year = est.groupby(['num_employee', 'est_year'])['com_name'].count()\n",
    "scale_year.unstack(0)"
   ]
  },
  {
   "cell_type": "code",
   "execution_count": 143,
   "metadata": {},
   "outputs": [],
   "source": [
    "scale_year_s = scale_year['小型企业'].reindex(num_com_by_year.index, fill_value=0)\n",
    "scale_year_m = scale_year['中型企业'].reindex(num_com_by_year.index, fill_value=0)\n",
    "scale_year_l = scale_year['大型企业'].reindex(num_com_by_year.index, fill_value=0)"
   ]
  },
  {
   "cell_type": "code",
   "execution_count": 162,
   "metadata": {},
   "outputs": [
    {
     "data": {
      "text/plain": [
       "[<matplotlib.lines.Line2D at 0x2da8051710>]"
      ]
     },
     "execution_count": 162,
     "metadata": {},
     "output_type": "execute_result"
    },
    {
     "data": {
      "image/png": "[encoded data removed]",
      "text/plain": [
       "<Figure size 864x576 with 1 Axes>"
      ]
     },
     "metadata": {
      "needs_background": "light"
     },
     "output_type": "display_data"
    }
   ],
   "source": [
    "fig,ax1 = plt.subplots(1,1,figsize=(12,8))\n",
    "p1 = plt.bar(scale_year_s.index,scale_year_s.values, color = \"red\")\n",
    "p2 = plt.bar(scale_year_s.index,scale_year_m.values, color = \"b\")\n",
    "p3 = plt.bar(scale_year_s.index,scale_year_l.values, color = \"pink\")\n",
    "plt.legend([p1,p2,p3], ['小型企业', '中型企业', '大型企业'], prop={'size':16})\n",
    "plt.plot(num_com_by_year)"
   ]
  },
  {
   "cell_type": "code",
   "execution_count": 178,
   "metadata": {},
   "outputs": [
    {
     "data": {
      "text/plain": [
       "<matplotlib.legend.Legend at 0x2daabd3128>"
      ]
     },
     "execution_count": 178,
     "metadata": {},
     "output_type": "execute_result"
    },
    {
     "data": {
      "image/png": "[encoded data removed]",
      "text/plain": [
       "<Figure size 864x576 with 1 Axes>"
      ]
     },
     "metadata": {
      "needs_background": "light"
     },
     "output_type": "display_data"
    }
   ],
   "source": [
    "scale_year.unstack(0).plot.barh(stacked=True, alpha=0.5,figsize=(12,8))\n",
    "plt.xlabel('num',fontsize=15)\n",
    "plt.ylabel('year',fontsize=15)\n",
    "plt.legend()"
   ]
  },
  {
   "cell_type": "code",
   "execution_count": 253,
   "metadata": {},
   "outputs": [],
   "source": [
    "E_data = data_clean.loc[(data_clean['city'] == '成都') & \n",
    "               (data_clean['job_academic'] != '博士') & \n",
    "               (data_clean['released_time'] == 'newest')]"
   ]
  },
  {
   "cell_type": "code",
   "execution_count": 254,
   "metadata": {},
   "outputs": [
    {
     "data": {
      "text/plain": [
       "42      天佑飞天\n",
       "52      天佑飞天\n",
       "53      天佑飞天\n",
       "92      知道创宇\n",
       "362     小多科技\n",
       "463     通甲优博\n",
       "474     风雷体育\n",
       "475    乐健梦想家\n",
       "502     知道创宇\n",
       "Name: com_name, dtype: object"
      ]
     },
     "execution_count": 254,
     "metadata": {},
     "output_type": "execute_result"
    }
   ],
   "source": [
    "E_data['com_name']"
   ]
  },
  {
   "cell_type": "code",
   "execution_count": 255,
   "metadata": {},
   "outputs": [
    {
     "data": {
      "text/html": [
       "<div>\n",
       "<style scoped>\n",
       "    .dataframe tbody tr th:only-of-type {\n",
       "        vertical-align: middle;\n",
       "    }\n",
       "\n",
       "    .dataframe tbody tr th {\n",
       "        vertical-align: top;\n",
       "    }\n",
       "\n",
       "    .dataframe thead th {\n",
       "        text-align: right;\n",
       "    }\n",
       "</style>\n",
       "<table border=\"1\" class=\"dataframe\">\n",
       "  <thead>\n",
       "    <tr style=\"text-align: right;\">\n",
       "      <th></th>\n",
       "      <th>job_title</th>\n",
       "      <th>job_links</th>\n",
       "    </tr>\n",
       "  </thead>\n",
       "  <tbody>\n",
       "    <tr>\n",
       "      <th>42</th>\n",
       "      <td>linux 网络软件助理工程师</td>\n",
       "      <td>https://www.shixiseng.com/intern/inn_pj90bwhyjdzr</td>\n",
       "    </tr>\n",
       "    <tr>\n",
       "      <th>52</th>\n",
       "      <td>linux 网络软件助理工程师</td>\n",
       "      <td>https://www.shixiseng.com/intern/inn_eaigmvuttt2q</td>\n",
       "    </tr>\n",
       "    <tr>\n",
       "      <th>53</th>\n",
       "      <td>Linux系统助理工程师</td>\n",
       "      <td>https://www.shixiseng.com/intern/inn_ailkb1tuvx6y</td>\n",
       "    </tr>\n",
       "    <tr>\n",
       "      <th>92</th>\n",
       "      <td>数据分析实习生</td>\n",
       "      <td>https://www.shixiseng.com/intern/inn_qipeucrxejoe</td>\n",
       "    </tr>\n",
       "    <tr>\n",
       "      <th>362</th>\n",
       "      <td>语音识别算法研发工程师（实习）</td>\n",
       "      <td>https://www.shixiseng.com/intern/inn_abmeodrpz2q3</td>\n",
       "    </tr>\n",
       "    <tr>\n",
       "      <th>463</th>\n",
       "      <td>计算机视觉实习生</td>\n",
       "      <td>https://www.shixiseng.com/intern/inn_yvbifihq6lna</td>\n",
       "    </tr>\n",
       "    <tr>\n",
       "      <th>474</th>\n",
       "      <td>视频图像算法实习生</td>\n",
       "      <td>https://www.shixiseng.com/intern/inn_olbp4jlguhuv</td>\n",
       "    </tr>\n",
       "    <tr>\n",
       "      <th>475</th>\n",
       "      <td>视频图像算法实习生</td>\n",
       "      <td>https://www.shixiseng.com/intern/inn_aheorkagdbjt</td>\n",
       "    </tr>\n",
       "    <tr>\n",
       "      <th>502</th>\n",
       "      <td>运营管理实习生</td>\n",
       "      <td>https://www.shixiseng.com/intern/inn_vgw8dbeflgud</td>\n",
       "    </tr>\n",
       "  </tbody>\n",
       "</table>\n",
       "</div>"
      ],
      "text/plain": [
       "           job_title                                          job_links\n",
       "42   linux 网络软件助理工程师  https://www.shixiseng.com/intern/inn_pj90bwhyjdzr\n",
       "52   linux 网络软件助理工程师  https://www.shixiseng.com/intern/inn_eaigmvuttt2q\n",
       "53      Linux系统助理工程师  https://www.shixiseng.com/intern/inn_ailkb1tuvx6y\n",
       "92           数据分析实习生  https://www.shixiseng.com/intern/inn_qipeucrxejoe\n",
       "362  语音识别算法研发工程师（实习）  https://www.shixiseng.com/intern/inn_abmeodrpz2q3\n",
       "463         计算机视觉实习生  https://www.shixiseng.com/intern/inn_yvbifihq6lna\n",
       "474        视频图像算法实习生  https://www.shixiseng.com/intern/inn_olbp4jlguhuv\n",
       "475        视频图像算法实习生  https://www.shixiseng.com/intern/inn_aheorkagdbjt\n",
       "502          运营管理实习生  https://www.shixiseng.com/intern/inn_vgw8dbeflgud"
      ]
     },
     "execution_count": 255,
     "metadata": {},
     "output_type": "execute_result"
    }
   ],
   "source": [
    "data.loc[E_data.index, ['job_title', 'job_links']]"
   ]
  },
  {
   "cell_type": "code",
   "execution_count": 256,
   "metadata": {},
   "outputs": [
    {
     "name": "stderr",
     "output_type": "stream",
     "text": [
      "d:\\program\\python\\lib\\site-packages\\ipykernel_launcher.py:6: SettingWithCopyWarning: \n",
      "A value is trying to be set on a copy of a slice from a DataFrame\n",
      "\n",
      "See the caveats in the documentation: http://pandas.pydata.org/pandas-docs/stable/indexing.html#indexing-view-versus-copy\n",
      "  \n",
      "d:\\program\\python\\lib\\site-packages\\ipykernel_launcher.py:7: SettingWithCopyWarning: \n",
      "A value is trying to be set on a copy of a slice from a DataFrame\n",
      "\n",
      "See the caveats in the documentation: http://pandas.pydata.org/pandas-docs/stable/indexing.html#indexing-view-versus-copy\n",
      "  import sys\n",
      "d:\\program\\python\\lib\\site-packages\\ipykernel_launcher.py:8: SettingWithCopyWarning: \n",
      "A value is trying to be set on a copy of a slice from a DataFrame.\n",
      "Try using .loc[row_indexer,col_indexer] = value instead\n",
      "\n",
      "See the caveats in the documentation: http://pandas.pydata.org/pandas-docs/stable/indexing.html#indexing-view-versus-copy\n",
      "  \n"
     ]
    },
    {
     "name": "stdout",
     "output_type": "stream",
     "text": [
      "Failed downloading logo of 懂车帝| 今日头条\n",
      "Successfully downloaded  458 logos!\n"
     ]
    }
   ],
   "source": [
    "import os\n",
    "import requests\n",
    "from PIL import Image\n",
    "\n",
    "data_logo = data_clean[['com_logo', 'com_name']]\n",
    "data_logo.drop_duplicates(subset='com_name', inplace=True)\n",
    "data_logo.dropna(inplace=True)\n",
    "data_logo['com_name'] = data_logo['com_name'].str.replace('/', '-')\n",
    "com_logo = list(data_logo['com_logo'])\n",
    "com_name = list(data_logo['com_name'])\n",
    "\n",
    "path_list = []\n",
    "num_logo = 0\n",
    "os.mkdir(r'C:\\Users\\Mr.You\\Desktop\\y\\shixiseng\\logo')\n",
    "for logo_index in range(len(com_logo)):\n",
    "    try:\n",
    "        response = requests.get(com_logo[logo_index])\n",
    "        suffix = com_logo[logo_index].split('.')[-1]\n",
    "        path = r'C:\\Users\\Mr.You\\Desktop\\y\\shixiseng\\logo\\{}.{}'.format(com_name[logo_index], suffix)\n",
    "        path_list.append(path)\n",
    "        with open(path, 'wb') as f:\n",
    "            f.write(response.content)\n",
    "        num_logo += 1\n",
    "    except:\n",
    "        print('Failed downloading logo of', com_name[logo_index])\n",
    "print('Successfully downloaded ', str(num_logo), 'logos!')"
   ]
  },
  {
   "cell_type": "code",
   "execution_count": 257,
   "metadata": {},
   "outputs": [
    {
     "name": "stdout",
     "output_type": "stream",
     "text": [
      "第7行,8列文件读取失败！IOError:C:\\Users\\Mr.You\\Desktop\\y\\shixiseng\\logo\\懂车帝| 今日头条.jpg\n"
     ]
    }
   ],
   "source": [
    "x = y = 0\n",
    "line = 20\n",
    "NewImage = Image.new('RGB', (128*line, 128*line))\n",
    "for item in path_list:\n",
    "    try:\n",
    "        img = Image.open(item)\n",
    "        img = img.resize((128, 128), Image.ANTIALIAS)\n",
    "        NewImage.paste(img, (x * 128, y * 128))\n",
    "        x += 1\n",
    "    except IOError:\n",
    "        print(\"第%d行,%d列文件读取失败！IOError:%s\" % (y, x, item))\n",
    "        x -= 1\n",
    "    if x == line:\n",
    "        x = 0\n",
    "        y += 1\n",
    "    if (x + line * y) == line * line:\n",
    "        break\n",
    "NewImage.save(r'C:\\Users\\Mr.You\\Desktop\\y\\shixiseng\\logo.jpg')"
   ]
  },
  {
   "cell_type": "code",
   "execution_count": null,
   "metadata": {},
   "outputs": [],
   "source": []
  }
 ],
 "metadata": {
  "kernelspec": {
   "display_name": "Python 3",
   "language": "python",
   "name": "python3"
  },
  "language_info": {
   "codemirror_mode": {
    "name": "ipython",
    "version": 3
   },
   "file_extension": ".py",
   "mimetype": "text/x-python",
   "name": "python",
   "nbconvert_exporter": "python",
   "pygments_lexer": "ipython3",
   "version": "3.6.3"
  }
 },
 "nbformat": 4,
 "nbformat_minor": 2
}
